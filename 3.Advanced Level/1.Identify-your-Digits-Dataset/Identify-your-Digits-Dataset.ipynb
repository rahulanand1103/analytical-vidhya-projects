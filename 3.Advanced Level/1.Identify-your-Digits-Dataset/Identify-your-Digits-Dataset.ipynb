{
  "nbformat": 4,
  "nbformat_minor": 0,
  "metadata": {
    "colab": {
      "name": "Mnist.ipynb",
      "provenance": [],
      "collapsed_sections": [],
      "toc_visible": true
    },
    "kernelspec": {
      "name": "python3",
      "display_name": "Python 3"
    },
    "accelerator": "TPU"
  },
  "cells": [
    {
      "cell_type": "code",
      "metadata": {
        "id": "DcwmqsJKF5dL",
        "colab_type": "code",
        "colab": {}
      },
      "source": [
        "import tensorflow as tf\n",
        "from tensorflow import keras\n",
        "from tensorflow.keras import Sequential\n",
        "from tensorflow.keras.layers import Flatten,Dense,Dropout,Conv2D,MaxPool2D,BatchNormalization,AveragePooling2D\n",
        "from tensorflow.keras.datasets import mnist"
      ],
      "execution_count": null,
      "outputs": []
    },
    {
      "cell_type": "code",
      "metadata": {
        "id": "19FE37CmIzbk",
        "colab_type": "code",
        "colab": {
          "base_uri": "https://localhost:8080/",
          "height": 34
        },
        "outputId": "a1fb9443-9524-450c-df38-dfc3819c4afd"
      },
      "source": [
        "print(tf.__version__)"
      ],
      "execution_count": null,
      "outputs": [
        {
          "output_type": "stream",
          "text": [
            "2.0.0-rc0\n"
          ],
          "name": "stdout"
        }
      ]
    },
    {
      "cell_type": "code",
      "metadata": {
        "id": "Wvd9SWdVLKWi",
        "colab_type": "code",
        "colab": {}
      },
      "source": [
        "import numpy as np\n",
        "import pandas as pd\n",
        "import matplotlib.pyplot as plt"
      ],
      "execution_count": null,
      "outputs": []
    },
    {
      "cell_type": "code",
      "metadata": {
        "id": "qtJ0i_UHKleO",
        "colab_type": "code",
        "colab": {}
      },
      "source": [
        "(x_train,y_train),(x_test,y_test)=mnist.load_data()"
      ],
      "execution_count": null,
      "outputs": []
    },
    {
      "cell_type": "code",
      "metadata": {
        "id": "agqf6HxOKzV1",
        "colab_type": "code",
        "colab": {
          "base_uri": "https://localhost:8080/",
          "height": 34
        },
        "outputId": "4b45a84b-f190-4636-9b62-4418fbfcca11"
      },
      "source": [
        "print(x_train.shape)"
      ],
      "execution_count": null,
      "outputs": [
        {
          "output_type": "stream",
          "text": [
            "(60000, 28, 28)\n"
          ],
          "name": "stdout"
        }
      ]
    },
    {
      "cell_type": "code",
      "metadata": {
        "id": "UxD4EFztK2XK",
        "colab_type": "code",
        "colab": {
          "base_uri": "https://localhost:8080/",
          "height": 282
        },
        "outputId": "b8d4d025-b181-4638-9c73-97a0763aa0b6"
      },
      "source": [
        "plt.figure()\n",
        "plt.imshow(x_train[0])\n",
        "print(y_train[0])"
      ],
      "execution_count": null,
      "outputs": [
        {
          "output_type": "stream",
          "text": [
            "5\n"
          ],
          "name": "stdout"
        },
        {
          "output_type": "display_data",
          "data": {
            "image/png": "[encoded data removed]",
            "text/plain": [
              "<Figure size 432x288 with 1 Axes>"
            ]
          },
          "metadata": {
            "tags": [],
            "needs_background": "light"
          }
        }
      ]
    },
    {
      "cell_type": "code",
      "metadata": {
        "id": "fHBe_6gVNgs4",
        "colab_type": "code",
        "colab": {}
      },
      "source": [
        "x_train=x_train.reshape(60000,28,28,1)\n",
        "x_test=x_test.reshape(10000, 28, 28,1)\n",
        "input_shape=x_train[0].shape"
      ],
      "execution_count": null,
      "outputs": []
    },
    {
      "cell_type": "markdown",
      "metadata": {
        "id": "wVQIbvweLeT5",
        "colab_type": "text"
      },
      "source": [
        "### CNN Architecture"
      ]
    },
    {
      "cell_type": "markdown",
      "metadata": {
        "id": "_poChde4LlE8",
        "colab_type": "text"
      },
      "source": [
        "* 4 Layer (16-32-64-128)\n",
        "* 3x3 kernel\n",
        "* Dropout\n",
        "* Batch Normalization\n",
        "* maxpool (2x2)\n"
      ]
    },
    {
      "cell_type": "code",
      "metadata": {
        "id": "LK7xkQ2ILHS9",
        "colab_type": "code",
        "colab": {
          "base_uri": "https://localhost:8080/",
          "height": 697
        },
        "outputId": "4f80f62e-f0c3-4dda-f20b-0854ae5cd3c5"
      },
      "source": [
        "model=Sequential()\n",
        "model.add(Conv2D(filters=16,kernel_size=(3,3),activation='relu',input_shape=input_shape))\n",
        "model.add(BatchNormalization())\n",
        "model.add(MaxPool2D(pool_size=(2, 2)))\n",
        "model.add(Dropout(0.30))\n",
        "\n",
        "model.add(Conv2D(32,kernel_size=(3,3),activation='relu'))\n",
        "model.add(BatchNormalization())\n",
        "model.add(MaxPool2D(pool_size=(2, 2)))\n",
        "model.add(Dropout(0.30))\n",
        "\n",
        "model.add(Conv2D(64,kernel_size=(3,3),activation='relu'))\n",
        "model.add(BatchNormalization())\n",
        "model.add(MaxPool2D(pool_size=(2, 2)))\n",
        "model.add(Dropout(0.30))\n",
        "\n",
        "model.add(Flatten())\n",
        "model.add(Dense(128,activation='relu'))\n",
        "model.add(Dropout(0.30))\n",
        "\n",
        "model.add(Dense(10,activation='softmax'))\n",
        "model.summary()"
      ],
      "execution_count": null,
      "outputs": [
        {
          "output_type": "stream",
          "text": [
            "Model: \"sequential_6\"\n",
            "_________________________________________________________________\n",
            "Layer (type)                 Output Shape              Param #   \n",
            "=================================================================\n",
            "conv2d_29 (Conv2D)           (None, 26, 26, 16)        160       \n",
            "_________________________________________________________________\n",
            "batch_normalization_11 (Batc (None, 26, 26, 16)        64        \n",
            "_________________________________________________________________\n",
            "max_pooling2d_9 (MaxPooling2 (None, 13, 13, 16)        0         \n",
            "_________________________________________________________________\n",
            "dropout_4 (Dropout)          (None, 13, 13, 16)        0         \n",
            "_________________________________________________________________\n",
            "conv2d_30 (Conv2D)           (None, 11, 11, 32)        4640      \n",
            "_________________________________________________________________\n",
            "batch_normalization_12 (Batc (None, 11, 11, 32)        128       \n",
            "_________________________________________________________________\n",
            "max_pooling2d_10 (MaxPooling (None, 5, 5, 32)          0         \n",
            "_________________________________________________________________\n",
            "dropout_5 (Dropout)          (None, 5, 5, 32)          0         \n",
            "_________________________________________________________________\n",
            "conv2d_31 (Conv2D)           (None, 3, 3, 64)          18496     \n",
            "_________________________________________________________________\n",
            "batch_normalization_13 (Batc (None, 3, 3, 64)          256       \n",
            "_________________________________________________________________\n",
            "max_pooling2d_11 (MaxPooling (None, 1, 1, 64)          0         \n",
            "_________________________________________________________________\n",
            "dropout_6 (Dropout)          (None, 1, 1, 64)          0         \n",
            "_________________________________________________________________\n",
            "flatten_3 (Flatten)          (None, 64)                0         \n",
            "_________________________________________________________________\n",
            "dense_8 (Dense)              (None, 128)               8320      \n",
            "_________________________________________________________________\n",
            "dropout_7 (Dropout)          (None, 128)               0         \n",
            "_________________________________________________________________\n",
            "dense_9 (Dense)              (None, 10)                1290      \n",
            "=================================================================\n",
            "Total params: 33,354\n",
            "Trainable params: 33,130\n",
            "Non-trainable params: 224\n",
            "_________________________________________________________________\n"
          ],
          "name": "stdout"
        }
      ]
    },
    {
      "cell_type": "code",
      "metadata": {
        "id": "uSm3F7fkPYcz",
        "colab_type": "code",
        "colab": {}
      },
      "source": [
        "model.compile(loss='sparse_categorical_crossentropy',optimizer='adam',metrics=['accuracy'])"
      ],
      "execution_count": null,
      "outputs": []
    },
    {
      "cell_type": "code",
      "metadata": {
        "id": "nnKav4Nugwx-",
        "colab_type": "code",
        "colab": {
          "base_uri": "https://localhost:8080/",
          "height": 428
        },
        "outputId": "a620efbf-dee6-4127-8f92-c0b51d5d5350"
      },
      "source": [
        "history=model.fit(x_train,y_train,batch_size=128,epochs=10,verbose=1,validation_data=(x_test,y_test))"
      ],
      "execution_count": null,
      "outputs": [
        {
          "output_type": "stream",
          "text": [
            "Train on 60000 samples, validate on 10000 samples\n",
            "Epoch 1/10\n",
            "WARNING:tensorflow:Entity <function Function._initialize_uninitialized_variables.<locals>.initialize_variables at 0x7f3ca1786378> could not be transformed and will be executed as-is. Please report this to the AutoGraph team. When filing the bug, set the verbosity to 10 (on Linux, `export AUTOGRAPH_VERBOSITY=10`) and attach the full output. Cause: module 'gast' has no attribute 'Num'\n",
            "WARNING: Entity <function Function._initialize_uninitialized_variables.<locals>.initialize_variables at 0x7f3ca1786378> could not be transformed and will be executed as-is. Please report this to the AutoGraph team. When filing the bug, set the verbosity to 10 (on Linux, `export AUTOGRAPH_VERBOSITY=10`) and attach the full output. Cause: module 'gast' has no attribute 'Num'\n",
            "60000/60000 [==============================] - 53s 888us/sample - loss: 0.6683 - accuracy: 0.7849 - val_loss: 0.1293 - val_accuracy: 0.9612\n",
            "Epoch 2/10\n",
            "60000/60000 [==============================] - 53s 876us/sample - loss: 0.2370 - accuracy: 0.9279 - val_loss: 0.0878 - val_accuracy: 0.9735\n",
            "Epoch 3/10\n",
            "60000/60000 [==============================] - 52s 868us/sample - loss: 0.1796 - accuracy: 0.9445 - val_loss: 0.0739 - val_accuracy: 0.9768\n",
            "Epoch 4/10\n",
            "60000/60000 [==============================] - 52s 875us/sample - loss: 0.1544 - accuracy: 0.9527 - val_loss: 0.0622 - val_accuracy: 0.9803\n",
            "Epoch 5/10\n",
            "60000/60000 [==============================] - 53s 875us/sample - loss: 0.1370 - accuracy: 0.9580 - val_loss: 0.0583 - val_accuracy: 0.9827\n",
            "Epoch 6/10\n",
            "60000/60000 [==============================] - 54s 893us/sample - loss: 0.1225 - accuracy: 0.9621 - val_loss: 0.0516 - val_accuracy: 0.9848\n",
            "Epoch 7/10\n",
            "60000/60000 [==============================] - 53s 885us/sample - loss: 0.1167 - accuracy: 0.9640 - val_loss: 0.0461 - val_accuracy: 0.9848\n",
            "Epoch 8/10\n",
            "60000/60000 [==============================] - 52s 874us/sample - loss: 0.1109 - accuracy: 0.9655 - val_loss: 0.0468 - val_accuracy: 0.9863\n",
            "Epoch 9/10\n",
            "60000/60000 [==============================] - 55s 924us/sample - loss: 0.1047 - accuracy: 0.9676 - val_loss: 0.0445 - val_accuracy: 0.9862\n",
            "Epoch 10/10\n",
            "60000/60000 [==============================] - 52s 871us/sample - loss: 0.1015 - accuracy: 0.9687 - val_loss: 0.0439 - val_accuracy: 0.9865\n"
          ],
          "name": "stdout"
        }
      ]
    },
    {
      "cell_type": "markdown",
      "metadata": {
        "id": "9JzhWCaXrQG6",
        "colab_type": "text"
      },
      "source": [
        "## LE-NET\n",
        "* activiation='relu'\n",
        "* optimizer='adam'"
      ]
    },
    {
      "cell_type": "code",
      "metadata": {
        "id": "RbT4vZxZrUso",
        "colab_type": "code",
        "colab": {
          "base_uri": "https://localhost:8080/",
          "height": 561
        },
        "outputId": "74423db6-fe70-4e0f-e7b1-f233bac72fa9"
      },
      "source": [
        "model=Sequential()\n",
        "model.add(Conv2D(filters=6,kernel_size=(5,5),activation='relu',input_shape=input_shape))\n",
        "model.add(BatchNormalization())\n",
        "\n",
        "model.add(Conv2D(filters=6,kernel_size=(5,5),strides=(2,2),activation='relu'))\n",
        "model.add(BatchNormalization())\n",
        "\n",
        "model.add(Conv2D(filters=16,kernel_size=(5,5),activation='relu'))\n",
        "model.add(BatchNormalization())\n",
        "\n",
        "model.add(Conv2D(filters=16,kernel_size=(5,5),strides=(2,2),activation='relu'))\n",
        "model.add(BatchNormalization())\n",
        "\n",
        "model.add(Flatten())\n",
        "model.add(Dense(120,activation='relu'))\n",
        "model.add(Dense(84,activation='relu'))\n",
        "model.add(Dense(10,activation='softmax'))\n",
        "\n",
        "model.summary()"
      ],
      "execution_count": null,
      "outputs": [
        {
          "output_type": "stream",
          "text": [
            "Model: \"sequential_5\"\n",
            "_________________________________________________________________\n",
            "Layer (type)                 Output Shape              Param #   \n",
            "=================================================================\n",
            "conv2d_25 (Conv2D)           (None, 24, 24, 6)         156       \n",
            "_________________________________________________________________\n",
            "batch_normalization_7 (Batch (None, 24, 24, 6)         24        \n",
            "_________________________________________________________________\n",
            "conv2d_26 (Conv2D)           (None, 10, 10, 6)         906       \n",
            "_________________________________________________________________\n",
            "batch_normalization_8 (Batch (None, 10, 10, 6)         24        \n",
            "_________________________________________________________________\n",
            "conv2d_27 (Conv2D)           (None, 6, 6, 16)          2416      \n",
            "_________________________________________________________________\n",
            "batch_normalization_9 (Batch (None, 6, 6, 16)          64        \n",
            "_________________________________________________________________\n",
            "conv2d_28 (Conv2D)           (None, 1, 1, 16)          6416      \n",
            "_________________________________________________________________\n",
            "batch_normalization_10 (Batc (None, 1, 1, 16)          64        \n",
            "_________________________________________________________________\n",
            "flatten_2 (Flatten)          (None, 16)                0         \n",
            "_________________________________________________________________\n",
            "dense_5 (Dense)              (None, 120)               2040      \n",
            "_________________________________________________________________\n",
            "dense_6 (Dense)              (None, 84)                10164     \n",
            "_________________________________________________________________\n",
            "dense_7 (Dense)              (None, 10)                850       \n",
            "=================================================================\n",
            "Total params: 23,124\n",
            "Trainable params: 23,036\n",
            "Non-trainable params: 88\n",
            "_________________________________________________________________\n"
          ],
          "name": "stdout"
        }
      ]
    },
    {
      "cell_type": "code",
      "metadata": {
        "id": "Nsimv6Qc6cSf",
        "colab_type": "code",
        "colab": {}
      },
      "source": [
        "model.compile(optimizer='adam',loss='sparse_categorical_crossentropy',metrics=['accuracy'])"
      ],
      "execution_count": null,
      "outputs": []
    },
    {
      "cell_type": "code",
      "metadata": {
        "id": "H1wexrjW6npo",
        "colab_type": "code",
        "colab": {
          "base_uri": "https://localhost:8080/",
          "height": 428
        },
        "outputId": "4609e861-c842-4d6a-e085-e1a3220b48d5"
      },
      "source": [
        "history=model.fit(x_train,y_train,batch_size=128,epochs=10,validation_data=(x_test,y_test))"
      ],
      "execution_count": null,
      "outputs": [
        {
          "output_type": "stream",
          "text": [
            "Train on 60000 samples, validate on 10000 samples\n",
            "Epoch 1/10\n",
            "WARNING:tensorflow:Entity <function Function._initialize_uninitialized_variables.<locals>.initialize_variables at 0x7f3c9f926048> could not be transformed and will be executed as-is. Please report this to the AutoGraph team. When filing the bug, set the verbosity to 10 (on Linux, `export AUTOGRAPH_VERBOSITY=10`) and attach the full output. Cause: module 'gast' has no attribute 'Num'\n",
            "WARNING: Entity <function Function._initialize_uninitialized_variables.<locals>.initialize_variables at 0x7f3c9f926048> could not be transformed and will be executed as-is. Please report this to the AutoGraph team. When filing the bug, set the verbosity to 10 (on Linux, `export AUTOGRAPH_VERBOSITY=10`) and attach the full output. Cause: module 'gast' has no attribute 'Num'\n",
            "60000/60000 [==============================] - 43s 717us/sample - loss: 0.3140 - accuracy: 0.9061 - val_loss: 0.0757 - val_accuracy: 0.9765\n",
            "Epoch 2/10\n",
            "60000/60000 [==============================] - 42s 703us/sample - loss: 0.0733 - accuracy: 0.9771 - val_loss: 0.0689 - val_accuracy: 0.9792\n",
            "Epoch 3/10\n",
            "60000/60000 [==============================] - 42s 707us/sample - loss: 0.0538 - accuracy: 0.9832 - val_loss: 0.0535 - val_accuracy: 0.9831\n",
            "Epoch 4/10\n",
            "60000/60000 [==============================] - 42s 706us/sample - loss: 0.0437 - accuracy: 0.9863 - val_loss: 0.0456 - val_accuracy: 0.9863\n",
            "Epoch 5/10\n",
            "60000/60000 [==============================] - 42s 705us/sample - loss: 0.0388 - accuracy: 0.9877 - val_loss: 0.0650 - val_accuracy: 0.9808\n",
            "Epoch 6/10\n",
            "60000/60000 [==============================] - 42s 697us/sample - loss: 0.0336 - accuracy: 0.9895 - val_loss: 0.0478 - val_accuracy: 0.9848\n",
            "Epoch 7/10\n",
            "60000/60000 [==============================] - 42s 703us/sample - loss: 0.0300 - accuracy: 0.9902 - val_loss: 0.0482 - val_accuracy: 0.9842\n",
            "Epoch 8/10\n",
            "60000/60000 [==============================] - 44s 726us/sample - loss: 0.0268 - accuracy: 0.9911 - val_loss: 0.0457 - val_accuracy: 0.9850\n",
            "Epoch 9/10\n",
            "60000/60000 [==============================] - 42s 694us/sample - loss: 0.0232 - accuracy: 0.9924 - val_loss: 0.0492 - val_accuracy: 0.9852\n",
            "Epoch 10/10\n",
            "60000/60000 [==============================] - 42s 693us/sample - loss: 0.0236 - accuracy: 0.9923 - val_loss: 0.0448 - val_accuracy: 0.9859\n"
          ],
          "name": "stdout"
        }
      ]
    },
    {
      "cell_type": "markdown",
      "metadata": {
        "id": "YF3pZOH2AC6S",
        "colab_type": "text"
      },
      "source": [
        "## Alex Net using 2 layer+dense layers"
      ]
    },
    {
      "cell_type": "code",
      "metadata": {
        "id": "yJz7edDlAGlu",
        "colab_type": "code",
        "colab": {}
      },
      "source": [
        "model=Sequential()\n",
        "\n",
        "model.add(Conv2D(64,kernel_size=(3,3),activation='relu',input_shape=input_shape))\n",
        "model.add(Conv2D(64,kernel_size=(3,3),activation='relu'))\n",
        "model.add(MaxPool2D(pool_size=(2,2),strides=(2,2)))\n",
        "\n",
        "model.add(Flatten())\n",
        "model.add(Dense(4096,activation='relu'))\n",
        "model.add(Dense(4096,activation='relu'))\n",
        "\n",
        "\n",
        "model.add(Dense(10,activation='softmax'))"
      ],
      "execution_count": null,
      "outputs": []
    },
    {
      "cell_type": "code",
      "metadata": {
        "id": "qurJ8K0PGOhe",
        "colab_type": "code",
        "colab": {}
      },
      "source": [
        "model.compile(optimizer='adam',loss='sparse_categorical_crossentropy',metrics=['accuracy'])"
      ],
      "execution_count": null,
      "outputs": []
    },
    {
      "cell_type": "code",
      "metadata": {
        "id": "c9xnbwhaxc-J",
        "colab_type": "code",
        "colab": {
          "base_uri": "https://localhost:8080/",
          "height": 428
        },
        "outputId": "b9872c2a-01b8-4ad6-d42c-cf2074fff95e"
      },
      "source": [
        "history=model.fit(x_train,y_train,batch_size=128,epochs=10,validation_data=(x_test,y_test))"
      ],
      "execution_count": null,
      "outputs": [
        {
          "output_type": "stream",
          "text": [
            "Train on 60000 samples, validate on 10000 samples\n",
            "Epoch 1/10\n",
            "WARNING:tensorflow:Entity <function Function._initialize_uninitialized_variables.<locals>.initialize_variables at 0x7f0c1f9cb6a8> could not be transformed and will be executed as-is. Please report this to the AutoGraph team. When filing the bug, set the verbosity to 10 (on Linux, `export AUTOGRAPH_VERBOSITY=10`) and attach the full output. Cause: module 'gast' has no attribute 'Num'\n",
            "WARNING: Entity <function Function._initialize_uninitialized_variables.<locals>.initialize_variables at 0x7f0c1f9cb6a8> could not be transformed and will be executed as-is. Please report this to the AutoGraph team. When filing the bug, set the verbosity to 10 (on Linux, `export AUTOGRAPH_VERBOSITY=10`) and attach the full output. Cause: module 'gast' has no attribute 'Num'\n",
            "60000/60000 [==============================] - 1052s 18ms/sample - loss: 4.1190 - accuracy: 0.9192 - val_loss: 0.0912 - val_accuracy: 0.9734\n",
            "Epoch 2/10\n",
            "60000/60000 [==============================] - 1087s 18ms/sample - loss: 0.0631 - accuracy: 0.9804 - val_loss: 0.0829 - val_accuracy: 0.9769\n",
            "Epoch 3/10\n",
            "60000/60000 [==============================] - 1091s 18ms/sample - loss: 0.0359 - accuracy: 0.9892 - val_loss: 0.0791 - val_accuracy: 0.9788\n",
            "Epoch 4/10\n",
            "60000/60000 [==============================] - 1090s 18ms/sample - loss: 0.0238 - accuracy: 0.9923 - val_loss: 0.1014 - val_accuracy: 0.9763\n",
            "Epoch 5/10\n",
            "60000/60000 [==============================] - 1071s 18ms/sample - loss: 0.0248 - accuracy: 0.9924 - val_loss: 0.0917 - val_accuracy: 0.9779\n",
            "Epoch 6/10\n",
            "60000/60000 [==============================] - 1076s 18ms/sample - loss: 0.0218 - accuracy: 0.9933 - val_loss: 0.0946 - val_accuracy: 0.9802\n",
            "Epoch 7/10\n",
            "60000/60000 [==============================] - 1077s 18ms/sample - loss: 0.0160 - accuracy: 0.9955 - val_loss: 0.1065 - val_accuracy: 0.9782\n",
            "Epoch 8/10\n",
            "60000/60000 [==============================] - 1071s 18ms/sample - loss: 0.0168 - accuracy: 0.9955 - val_loss: 0.1051 - val_accuracy: 0.9812\n",
            "Epoch 9/10\n",
            "60000/60000 [==============================] - 1073s 18ms/sample - loss: 0.0158 - accuracy: 0.9955 - val_loss: 0.1279 - val_accuracy: 0.9779\n",
            "Epoch 10/10\n",
            "59904/60000 [============================>.] - ETA: 1s - loss: 0.0155 - accuracy: 0.9959"
          ],
          "name": "stdout"
        }
      ]
    }
  ]
}